{
 "cells": [
  {
   "cell_type": "code",
   "execution_count": 2,
   "metadata": {},
   "outputs": [],
   "source": [
    "import pandas as pd\n",
    "import pymongo\n",
    "import os"
   ]
  },
  {
   "cell_type": "code",
   "execution_count": 9,
   "metadata": {},
   "outputs": [],
   "source": [
    "user=os.getenv(\"MONGO_INITDB_ROOT_USERNAME\")\n",
    "password=os.getenv(\"MONGO_INITDB_ROOT_PASSWORD\")\n",
    "db=os.getenv(\"MONGO_INITDB_DATABASE\")\n",
    "host=\"0.0.0.0:27017\"\n",
    "uri=f'mongodb://{user}:{password}@{host}/?authMechanism=DEFAULT&authSource={db}'\n",
    "mongo = pymongo.MongoClient(uri)"
   ]
  },
  {
   "cell_type": "code",
   "execution_count": 10,
   "metadata": {},
   "outputs": [],
   "source": [
    "def reviews(**kwargs):\n",
    "    for review in mongo.bakery.sample.find(**kwargs):\n",
    "        if 'delete' not in review:\n",
    "            yield {\n",
    "                'created_at': review['작성날짜'],\n",
    "                'text': review['내용'],\n",
    "            }"
   ]
  },
  {
   "cell_type": "code",
   "execution_count": null,
   "metadata": {},
   "outputs": [],
   "source": [
    "pd.DataFrame(reviews(limit=10))"
   ]
  },
  {
   "cell_type": "code",
   "execution_count": null,
   "metadata": {},
   "outputs": [],
   "source": []
  }
 ],
 "metadata": {
  "kernelspec": {
   "display_name": "Python 3 (ipykernel)",
   "language": "python",
   "name": "python3"
  },
  "language_info": {
   "codemirror_mode": {
    "name": "ipython",
    "version": 3
   },
   "file_extension": ".py",
   "mimetype": "text/x-python",
   "name": "python",
   "nbconvert_exporter": "python",
   "pygments_lexer": "ipython3",
   "version": "3.8.16"
  },
  "vscode": {
   "interpreter": {
    "hash": "4a2c010aadc3fd780168d8c2be8e18d5e63a83389aea6b88b2f2175232a4f4ad"
   }
  }
 },
 "nbformat": 4,
 "nbformat_minor": 2
}
