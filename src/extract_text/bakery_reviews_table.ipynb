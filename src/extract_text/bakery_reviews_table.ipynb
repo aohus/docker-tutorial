{
 "cells": [
  {
   "cell_type": "code",
   "execution_count": 22,
   "metadata": {},
   "outputs": [],
   "source": [
    "import pandas as pd\n",
    "import pymongo"
   ]
  },
  {
   "cell_type": "code",
   "execution_count": 23,
   "metadata": {},
   "outputs": [],
   "source": [
    "mongo = pymongo.MongoClient()"
   ]
  },
  {
   "cell_type": "code",
   "execution_count": 24,
   "metadata": {},
   "outputs": [],
   "source": [
    "def reviews(**kwargs):\n",
    "    for review in mongo.bakery.sample.find(**kwargs):\n",
    "        if 'delete' not in review:\n",
    "            yield {\n",
    "                'created_at': review['작성날짜'],\n",
    "                'text': review['내용'],\n",
    "            }"
   ]
  },
  {
   "cell_type": "code",
   "execution_count": 25,
   "metadata": {},
   "outputs": [
    {
     "data": {
      "text/html": [
       "<div>\n",
       "<style scoped>\n",
       "    .dataframe tbody tr th:only-of-type {\n",
       "        vertical-align: middle;\n",
       "    }\n",
       "\n",
       "    .dataframe tbody tr th {\n",
       "        vertical-align: top;\n",
       "    }\n",
       "\n",
       "    .dataframe thead th {\n",
       "        text-align: right;\n",
       "    }\n",
       "</style>\n",
       "<table border=\"1\" class=\"dataframe\">\n",
       "  <thead>\n",
       "    <tr style=\"text-align: right;\">\n",
       "      <th></th>\n",
       "      <th>created_at</th>\n",
       "      <th>text</th>\n",
       "    </tr>\n",
       "  </thead>\n",
       "  <tbody>\n",
       "    <tr>\n",
       "      <th>0</th>\n",
       "      <td>2020-07-27T12:16:00</td>\n",
       "      <td>후기 매장 명 코코로카라 바나나오레오 카라벨라다크푸딩에 이어 바나나 미쯔말차 ...</td>\n",
       "    </tr>\n",
       "    <tr>\n",
       "      <th>1</th>\n",
       "      <td>2020-07-27T12:13:00</td>\n",
       "      <td>후기 매장 명 우부래도일단 사진    죄송해요 제가       형이다보니 사람...</td>\n",
       "    </tr>\n",
       "    <tr>\n",
       "      <th>2</th>\n",
       "      <td>2020-07-27T09:57:00</td>\n",
       "      <td>후기 매장 명 인라이크친구가 자기동네에 밀가루 안들어간 케이크 파는곳 생겼다고...</td>\n",
       "    </tr>\n",
       "    <tr>\n",
       "      <th>3</th>\n",
       "      <td>2020-07-27T09:53:00</td>\n",
       "      <td>후기 매장 명 티크닉 티크닉 서울특별시 마포구 연남동 크게보기 길찾기 홍대에서...</td>\n",
       "    </tr>\n",
       "    <tr>\n",
       "      <th>4</th>\n",
       "      <td>2020-07-27T00:40:00</td>\n",
       "      <td>후기 매장 명 장블랑제리 장블랑제리  주는 장마기간 거기에 월요일 휴무 정보에...</td>\n",
       "    </tr>\n",
       "    <tr>\n",
       "      <th>5</th>\n",
       "      <td>2020-07-26T23:40:00</td>\n",
       "      <td>많은분  여러곳 추천해주셨는데ㅠㅠ짐이 너무무거워서 제일가까운곳에 있는 마고에 갔어요...</td>\n",
       "    </tr>\n",
       "    <tr>\n",
       "      <th>6</th>\n",
       "      <td>2020-07-26T21:27:00</td>\n",
       "      <td>후기 매장 명 더브레드블루 에 기회가 생겨서 더브레드블루 의 홍국식빵 을 먹어보게 ...</td>\n",
       "    </tr>\n",
       "    <tr>\n",
       "      <th>7</th>\n",
       "      <td>2020-07-26T18:58:00</td>\n",
       "      <td>평일에도 대기가 많은지는 모르겠지만 일요일 시반 부터 대기  분 정도 기다려서...</td>\n",
       "    </tr>\n",
       "    <tr>\n",
       "      <th>8</th>\n",
       "      <td>2020-07-26T17:18:00</td>\n",
       "      <td>츄이구이브레드 서울특별시 마포구 서교동 세원빌딩 층 크게보기 길찾기 토요일을 맞아...</td>\n",
       "    </tr>\n",
       "    <tr>\n",
       "      <th>9</th>\n",
       "      <td>2020-07-26T14:26:00</td>\n",
       "      <td>얼그레이 쿠키슈   얼그레이 크림빵 좋아 는 분들 많죠 ̈ 얼그레이 향이   진하...</td>\n",
       "    </tr>\n",
       "  </tbody>\n",
       "</table>\n",
       "</div>"
      ],
      "text/plain": [
       "            created_at                                               text\n",
       "0  2020-07-27T12:16:00     후기 매장 명 코코로카라 바나나오레오 카라벨라다크푸딩에 이어 바나나 미쯔말차 ...\n",
       "1  2020-07-27T12:13:00     후기 매장 명 우부래도일단 사진    죄송해요 제가       형이다보니 사람...\n",
       "2  2020-07-27T09:57:00     후기 매장 명 인라이크친구가 자기동네에 밀가루 안들어간 케이크 파는곳 생겼다고...\n",
       "3  2020-07-27T09:53:00     후기 매장 명 티크닉 티크닉 서울특별시 마포구 연남동 크게보기 길찾기 홍대에서...\n",
       "4  2020-07-27T00:40:00     후기 매장 명 장블랑제리 장블랑제리  주는 장마기간 거기에 월요일 휴무 정보에...\n",
       "5  2020-07-26T23:40:00  많은분  여러곳 추천해주셨는데ㅠㅠ짐이 너무무거워서 제일가까운곳에 있는 마고에 갔어요...\n",
       "6  2020-07-26T21:27:00  후기 매장 명 더브레드블루 에 기회가 생겨서 더브레드블루 의 홍국식빵 을 먹어보게 ...\n",
       "7  2020-07-26T18:58:00     평일에도 대기가 많은지는 모르겠지만 일요일 시반 부터 대기  분 정도 기다려서...\n",
       "8  2020-07-26T17:18:00   츄이구이브레드 서울특별시 마포구 서교동 세원빌딩 층 크게보기 길찾기 토요일을 맞아...\n",
       "9  2020-07-26T14:26:00   얼그레이 쿠키슈   얼그레이 크림빵 좋아 는 분들 많죠 ̈ 얼그레이 향이   진하..."
      ]
     },
     "execution_count": 25,
     "metadata": {},
     "output_type": "execute_result"
    }
   ],
   "source": [
    "pd.DataFrame(reviews(limit=10))"
   ]
  },
  {
   "cell_type": "code",
   "execution_count": null,
   "metadata": {},
   "outputs": [],
   "source": []
  }
 ],
 "metadata": {
  "kernelspec": {
   "display_name": "Python 3 (ipykernel)",
   "language": "python",
   "name": "python3"
  },
  "language_info": {
   "codemirror_mode": {
    "name": "ipython",
    "version": 3
   },
   "file_extension": ".py",
   "mimetype": "text/x-python",
   "name": "python",
   "nbconvert_exporter": "python",
   "pygments_lexer": "ipython3",
   "version": "3.8.3"
  },
  "vscode": {
   "interpreter": {
    "hash": "4a2c010aadc3fd780168d8c2be8e18d5e63a83389aea6b88b2f2175232a4f4ad"
   }
  }
 },
 "nbformat": 4,
 "nbformat_minor": 2
}
