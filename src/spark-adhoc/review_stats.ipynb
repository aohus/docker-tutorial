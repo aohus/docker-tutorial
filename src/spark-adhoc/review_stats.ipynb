{
 "cells": [
  {
   "cell_type": "code",
   "execution_count": 1,
   "metadata": {},
   "outputs": [
    {
     "data": {
      "text/html": [
       "\n",
       "            <div>\n",
       "                <p><b>SparkSession - hive</b></p>\n",
       "                \n",
       "        <div>\n",
       "            <p><b>SparkContext</b></p>\n",
       "\n",
       "            <p><a href=\"http://192.168.219.100:4040\">Spark UI</a></p>\n",
       "\n",
       "            <dl>\n",
       "              <dt>Version</dt>\n",
       "                <dd><code>v3.3.1</code></dd>\n",
       "              <dt>Master</dt>\n",
       "                <dd><code>local[*]</code></dd>\n",
       "              <dt>AppName</dt>\n",
       "                <dd><code>PySparkShell</code></dd>\n",
       "            </dl>\n",
       "        </div>\n",
       "        \n",
       "            </div>\n",
       "        "
      ],
      "text/plain": [
       "<pyspark.sql.session.SparkSession at 0x10aa11520>"
      ]
     },
     "execution_count": 1,
     "metadata": {},
     "output_type": "execute_result"
    }
   ],
   "source": [
    "spark"
   ]
  },
  {
   "cell_type": "code",
   "execution_count": 6,
   "metadata": {},
   "outputs": [],
   "source": [
    "df = (spark.read\n",
    "     .format(\"com.mongodb.spark.sql.DefaultSource\")\n",
    "     .option(\"uri\", \"mongodb://localhost/bakery.sample\")\n",
    "     .load())"
   ]
  },
  {
   "cell_type": "code",
   "execution_count": 7,
   "metadata": {},
   "outputs": [],
   "source": [
    "df.createOrReplaceTempView('reviews')"
   ]
  },
  {
   "cell_type": "code",
   "execution_count": 25,
   "metadata": {},
   "outputs": [
    {
     "name": "stdout",
     "output_type": "stream",
     "text": [
      "+---+-----------+\n",
      "|cnt|     닉네임|\n",
      "+---+-----------+\n",
      "| 79|     Bella |\n",
      "| 44| 림 윤이맘 |\n",
      "| 44|  보리새싹 |\n",
      "| 43|    김빵돌 |\n",
      "| 41|    루시에 |\n",
      "| 35|  막강쯔지 |\n",
      "| 32|  기믄슈기 |\n",
      "| 29|  곰돌이존 |\n",
      "| 27|  하투하투 |\n",
      "| 26|   gomdong |\n",
      "+---+-----------+\n",
      "only showing top 10 rows\n",
      "\n"
     ]
    }
   ],
   "source": [
    "query='''\n",
    "    SELECT COUNT(`제목`) cnt, `닉네임` id FROM reviews\n",
    "    GROUP BY 2\n",
    "    ORDER BY cnt DESC\n",
    "'''\n",
    "spark.sql(query).show(10)"
   ]
  },
  {
   "cell_type": "code",
   "execution_count": 33,
   "metadata": {},
   "outputs": [],
   "source": [
    "query='''\n",
    "    SELECT `작성날짜` time, `내용` text\n",
    "    FROM reviews\n",
    "'''\n",
    "reviews_table = spark.sql(query)"
   ]
  },
  {
   "cell_type": "code",
   "execution_count": 34,
   "metadata": {},
   "outputs": [],
   "source": [
    "from pyspark.sql import Row\n",
    "\n",
    "def text_split(row):\n",
    "    for word in row.text.split():\n",
    "        yield Row(time=row.time, word=word)"
   ]
  },
  {
   "cell_type": "code",
   "execution_count": 35,
   "metadata": {},
   "outputs": [
    {
     "data": {
      "text/plain": [
       "[Row(time='2020-07-27T12:16:00', text='   후기 매장 명 코코로카라 바나나오레오 카라벨라다크푸딩에 이어 바나나 미쯔말차 발로나밀크 먹어본 후기 가져왔어요   바나나푸딩 바나나의 부드럽고 달콤함 닐라웨이퍼의 촉촉 달달 고소함 생과일바나나의 신선함 까지 합해져서 찰떡궁합이에요 바나나 좋아 는 분은 프로 좋아하실맛익숙하지만 특별해요 바나나 덕후분들 메모메모 발로나밀크푸딩 카라벨라다크푸딩과는 또다른 매력이있는 푸딩이에요밀크초코지만  보다 엄청 달지않은 점이 더 맘에 들었어요 그렇다고 안 달다고는 안했습니다   초코의 풍미가 엄청 잘 느껴지고 부재료 랑 궁합도 너무 좋아요 다크푸딩과 마찬가지로 오렌지필들어있구요중간중간 상큼함 오렌지가 씹혀서 질리지않고 더 맛있게 먹을 수 있었어요 저는 신기하게도 다크보다 밀크가 더 술술 들어가더라구요 초코 좋아 면 그냥 드셔주세요 미쯔말차푸딩 제가 어린이입맛에 가까워서 말차 특유의 쌉쌀함이 너무 강하면 잘 못먹는편이라 살 때 고민을 가장 많이 했던 푸딩이었어요 근데 사길 정말 잘했다는  이 드는 푸딩 지금까지 먹어본 코코로푸딩중에선 이게 등이었구요아주 진한 말차를 선호 는 분들은 조금 약하다고 아쉬워하실 수 있겠지만 전 딱 좋은 정도였어요엄청 달지않고 부드러우면서도 말차의 매력은 살아있는 약간 말차라떼느낌 거기에 미쯔랑 초콜릿까지 오독오독 씹히니까   맛있어서 미치겠더라구요 ㅠㅠㅠ 저 수요일에 또 갈 예정인데   사러 가는게 가장 큰 이유에요녹린이인 저도 반할만큼 맛있고 대중적인 말차맛이니까 저같은 분들 꼭 드셔보셨음 좋겠어요 저희집에 코코로카라가 가까운 거리는 아니에요하지만 그럼에도 불구하고 계속 가게되는 곳이구 제 마음속 푸딩 맛집 등입니다 다들 꼭 드셔보셨음 좋겠네요 ')]"
      ]
     },
     "execution_count": 35,
     "metadata": {},
     "output_type": "execute_result"
    }
   ],
   "source": [
    "reviews_table.rdd.take(1)"
   ]
  },
  {
   "cell_type": "code",
   "execution_count": 37,
   "metadata": {},
   "outputs": [
    {
     "data": {
      "text/plain": [
       "[Row(time='2020-07-27T12:16:00', word='후기'),\n",
       " Row(time='2020-07-27T12:16:00', word='매장'),\n",
       " Row(time='2020-07-27T12:16:00', word='명'),\n",
       " Row(time='2020-07-27T12:16:00', word='코코로카라'),\n",
       " Row(time='2020-07-27T12:16:00', word='바나나오레오'),\n",
       " Row(time='2020-07-27T12:16:00', word='카라벨라다크푸딩에'),\n",
       " Row(time='2020-07-27T12:16:00', word='이어'),\n",
       " Row(time='2020-07-27T12:16:00', word='바나나'),\n",
       " Row(time='2020-07-27T12:16:00', word='미쯔말차'),\n",
       " Row(time='2020-07-27T12:16:00', word='발로나밀크')]"
      ]
     },
     "execution_count": 37,
     "metadata": {},
     "output_type": "execute_result"
    }
   ],
   "source": [
    "reviews_table.rdd.flatMap(text_split).take(10)"
   ]
  },
  {
   "cell_type": "code",
   "execution_count": 38,
   "metadata": {},
   "outputs": [],
   "source": [
    "words = reviews_table.rdd.flatMap(text_split).toDF()\n",
    "words.createOrReplaceTempView('words')"
   ]
  },
  {
   "cell_type": "code",
   "execution_count": 39,
   "metadata": {},
   "outputs": [
    {
     "name": "stdout",
     "output_type": "stream",
     "text": [
      "+------+--------+\n",
      "|  word|count(1)|\n",
      "+------+--------+\n",
      "|  너무|    2953|\n",
      "|    더|    2243|\n",
      "|    빵|    2163|\n",
      "|    다|    1845|\n",
      "|    것|    1827|\n",
      "|  많이|    1826|\n",
      "|    좀|    1698|\n",
      "|같아요|    1589|\n",
      "|  정말|    1562|\n",
      "|    잘|    1486|\n",
      "+------+--------+\n",
      "only showing top 10 rows\n",
      "\n"
     ]
    }
   ],
   "source": [
    "query='''\n",
    "    SELECT word, count(*) count\n",
    "    FROM words\n",
    "    GROUP BY 1\n",
    "    ORDER BY 2 DESC\n",
    "'''\n",
    "spark.sql(query).show(10)"
   ]
  },
  {
   "cell_type": "code",
   "execution_count": null,
   "metadata": {},
   "outputs": [],
   "source": []
  }
 ],
 "metadata": {
  "kernelspec": {
   "display_name": "Python 3",
   "language": "python",
   "name": "python3"
  },
  "language_info": {
   "codemirror_mode": {
    "name": "ipython",
    "version": 3
   },
   "file_extension": ".py",
   "mimetype": "text/x-python",
   "name": "python",
   "nbconvert_exporter": "python",
   "pygments_lexer": "ipython3",
   "version": "3.8.3"
  }
 },
 "nbformat": 4,
 "nbformat_minor": 4
}
